{
 "cells": [
  {
   "cell_type": "code",
   "execution_count": 1,
   "id": "205b278a",
   "metadata": {
    "ExecuteTime": {
     "end_time": "2023-08-28T17:09:57.886811107Z",
     "start_time": "2023-08-28T17:09:57.263670496Z"
    }
   },
   "outputs": [],
   "source": [
    "%matplotlib notebook\n",
    "import matplotlib.pyplot as plt\n",
    "import numpy as np\n",
    "import scipy\n",
    "import cdb_extras.xarray_support as cdbxr\n",
    "from pyCDB import client\n",
    "from scipy.signal import find_peaks\n",
    "cdb = client.CDBClient()"
   ]
  },
  {
   "cell_type": "code",
   "execution_count": null,
   "id": "44590b82",
   "metadata": {},
   "outputs": [],
   "source": []
  },
  {
   "cell_type": "code",
   "execution_count": 2,
   "id": "cd7fd59f",
   "metadata": {
    "ExecuteTime": {
     "end_time": "2023-08-28T17:10:02.953679678Z",
     "start_time": "2023-08-28T17:10:02.941797331Z"
    }
   },
   "outputs": [],
   "source": [
    "def calculate_gradient(x1, y1, x2, y2):\n",
    "\n",
    "    gradient = (y2 - y1) / (x2 - x1)\n",
    "    return gradient"
   ]
  },
  {
   "cell_type": "markdown",
   "id": "4a37c20d68dd55f8",
   "metadata": {},
   "source": []
  },
  {
   "cell_type": "code",
   "execution_count": 3,
   "id": "f0c362da",
   "metadata": {
    "ExecuteTime": {
     "end_time": "2023-08-28T17:10:03.986587729Z",
     "start_time": "2023-08-28T17:10:03.978840999Z"
    }
   },
   "outputs": [],
   "source": [
    "def Load_Signal(shot_number):\n",
    "    \n",
    "    shot_number = shot_number\n",
    "    W_xarray = 1\n",
    "    t_ELM_start= 1\n",
    "    signal = 1\n",
    "    \n",
    "    shot_accessor = cdbxr.Shot(shot_number)\n",
    "\n",
    "    Variants = [\"HIRES_ELM\", \"v7_std_hires\"]\n",
    "    DefaultVariant = \"default_variant\"\n",
    "\n",
    "    try:\n",
    "        for variant in Variants:\n",
    "            signal_name = f'W/EFIT:{shot_number}:{variant}'\n",
    "            try:\n",
    "                W_xarray = shot_accessor[signal_name]\n",
    "                print(\" \")\n",
    "               \n",
    "                break \n",
    "            except Exception:\n",
    "                print(\" \")\n",
    "        else:\n",
    "            \n",
    "            try:\n",
    "                default_signal_name = f'W/EFIT:{shot_number}'\n",
    "                W_xarray = shot_accessor[default_signal_name]\n",
    "                print(\" \")\n",
    "                \n",
    "            except Exception:\n",
    "                print(\" \")\n",
    "                \n",
    "    except Exception as e:\n",
    "        print(\" \", e)\n",
    "    \n",
    "    try:\n",
    "        t_ELM_start = cdb.get_signal(\"t_ELM_start:\"+ str(shot_number))\n",
    "    except Exception:\n",
    "        print(\" \")\n",
    "\n",
    "    try:\n",
    "        signal = cdb.get_signal(f\"t_ELM_start/SYNTHETIC_DIAGNOSTICS:{shot_number}\")\n",
    "    except Exception:\n",
    "        print(\" \")\n",
    "        \n",
    "        \n",
    "    Signal_Data=[W_xarray,t_ELM_start,signal]\n",
    "        \n",
    "    return Signal_Data "
   ]
  },
  {
   "cell_type": "code",
   "execution_count": 4,
   "id": "3f979c62",
   "metadata": {
    "ExecuteTime": {
     "end_time": "2023-08-28T17:10:05.031013941Z",
     "start_time": "2023-08-28T17:10:04.998879706Z"
    }
   },
   "outputs": [],
   "source": [
    "def Get_Lists(shot_number):\n",
    "    \n",
    "    Signal_Data = Load_Signal(shot_number)\n",
    "    \n",
    "    W_xarray = Signal_Data[0]\n",
    "    t_ELM_start = Signal_Data[1]\n",
    "    signal = Signal_Data[2]\n",
    "    \n",
    "    width = 15\n",
    "    distance = 5\n",
    "    rel_height = 1\n",
    "    \n",
    "    UPeaks = []\n",
    "    UTroughs = []\n",
    "    UPeaks_T = []\n",
    "    UTroughs_T =[]\n",
    "               \n",
    "    FPeaks = []\n",
    "    FTroughs = []\n",
    "    FPeaks_T = []\n",
    "    FTroughs_T =[]\n",
    "    \n",
    "    peaks, _ = find_peaks(W_xarray, width = width, distance = distance, rel_height=rel_height) \n",
    "    peaks2, _ = find_peaks(-W_xarray, width = width, distance = distance, rel_height=rel_height)\n",
    "    \n",
    "    Peaks_T = list(W_xarray.time.data[peaks])\n",
    "    Peaks = list(W_xarray.data[peaks])\n",
    "    Troughs_T = list(W_xarray.time.data[peaks2])\n",
    "    Troughs = list(W_xarray.data[peaks2])\n",
    "    \n",
    "    elm_candidates = list()\n",
    "    for i in range(len(Peaks_T)):\n",
    "        threshold_time = Peaks_T[i]\n",
    "        for j, through_time in enumerate(Troughs_T):\n",
    "            if through_time > threshold_time and (i == len(Peaks_T)-1 or Peaks_T[i+1] > through_time):\n",
    "                elm_candidates.append((threshold_time, through_time))\n",
    "                break\n",
    "    \n",
    "    t_starts = [elm_c[0] for elm_c in elm_candidates]\n",
    "    t_end = [elm_c[1] for elm_c in elm_candidates]\n",
    "\n",
    "    for t_s, t_e in zip(t_starts, t_end):\n",
    "        UPeaks_T.append( Peaks_T [ Peaks_T.index( t_s ) ] )\n",
    "        UTroughs_T.append(Troughs_T[Troughs_T.index(t_e)])\n",
    "        UPeaks.append(Peaks[Peaks_T.index(t_s)])\n",
    "        UTroughs.append(Troughs[Troughs_T.index(t_e)])\n",
    "    \n",
    "    for i in range(len(UPeaks_T)):\n",
    "        if calculate_gradient(UPeaks_T[i], UPeaks[i], UTroughs_T[i], UTroughs[i]) < -100 and UTroughs[i]/UPeaks[i]*100<99:\n",
    "        \n",
    "            FPeaks_T.append(UPeaks_T[i])\n",
    "            FTroughs_T.append(UTroughs_T[i])\n",
    "            FPeaks.append(UPeaks[i])\n",
    "            FTroughs.append(UTroughs[i])\n",
    "    \n",
    "    Temp_List = []\n",
    "    Temp_List.append(FPeaks)\n",
    "    Temp_List.append(FPeaks_T)\n",
    "    Temp_List.append(FTroughs)\n",
    "    Temp_List.append(FTroughs_T)\n",
    "    \n",
    "    return Temp_List"
   ]
  },
  {
   "cell_type": "code",
   "execution_count": 5,
   "id": "a9e5d164",
   "metadata": {
    "ExecuteTime": {
     "end_time": "2023-08-28T17:10:05.680809284Z",
     "start_time": "2023-08-28T17:10:05.664347191Z"
    }
   },
   "outputs": [],
   "source": [
    "def Display_Graph(shot_number):\n",
    "    \n",
    "    Signal_Data = Load_Signal(shot_number)\n",
    "    \n",
    "    W_xarray = Signal_Data[0]\n",
    "    t_ELM_start = Signal_Data[1]\n",
    "    signal = Signal_Data[2]\n",
    "    \n",
    "    Lists = Get_Lists(shot_number)\n",
    "    \n",
    "    NPeaks = Lists[0]\n",
    "    NPeaks_T = Lists[1]\n",
    "    NTroughs = Lists[2]\n",
    "    NTroughs_T = Lists[3]\n",
    "    \n",
    "    plt.figure()\n",
    "    W_xarray.plot(color = \"black\")\n",
    "    plt.plot(NPeaks_T,NPeaks,'xr')"
   ]
  },
  {
   "cell_type": "code",
   "execution_count": 6,
   "id": "aa304c20",
   "metadata": {
    "ExecuteTime": {
     "end_time": "2023-08-28T17:10:06.036594582Z",
     "start_time": "2023-08-28T17:10:06.029472122Z"
    }
   },
   "outputs": [],
   "source": [
    "def Compare_Graphs(shot_number):\n",
    "    \n",
    "    Signal_Data = Load_Signal(shot_number)\n",
    "    \n",
    "    W_xarray = Signal_Data[0]\n",
    "    t_ELM_start = Signal_Data[1]\n",
    "    signal = Signal_Data[2]\n",
    "    \n",
    "    Lists = Get_Lists(shot_number)\n",
    "    \n",
    "    ELM_start_J = Lists[1]\n",
    "    ELM_start_T = signal.data\n",
    "    \n",
    "    ELM_start_J1 = []\n",
    "    ELM_start_T1 = []\n",
    "\n",
    "    ELM_start_J2 = []\n",
    "    ELM_start_T2 = []\n",
    "    \n",
    "    elm_candidates = list()\n",
    "\n",
    "    for threshold_time in ELM_start_J:\n",
    "        closest_through_time = None\n",
    "        min_time_difference = float('inf')\n",
    "        for through_time in ELM_start_T:\n",
    "            time_difference = abs(through_time - threshold_time)\n",
    "            if time_difference < min_time_difference:\n",
    "                min_time_difference = time_difference\n",
    "                closest_through_time = through_time\n",
    "        if closest_through_time is not None:\n",
    "            elm_candidates.append((threshold_time, closest_through_time))\n",
    "\n",
    "    t_starts = [elm_c[0] for elm_c in elm_candidates]\n",
    "    t_end = [elm_c[1] for elm_c in elm_candidates]\n",
    "    \n",
    "    for t_s, t_e in zip(t_starts, t_end):\n",
    "        ELM_start_J1.append(t_s)\n",
    "        ELM_start_T1.append(t_e)\n",
    "    \n",
    "    for i in range(len(ELM_start_J1)):\n",
    "        if ELM_start_J1[i]-ELM_start_T1[i] < 1 and ELM_start_J1[i]-ELM_start_T1[i] > -1:\n",
    "            ELM_start_J2.append(ELM_start_J1[i])\n",
    "            ELM_start_T2.append(ELM_start_T1[i])\n",
    "    \n",
    "    print(f\"No. of ELMs using Plasma Energy: {len(ELM_start_J)}. No. of ELMs using H_Alpha: {len(ELM_start_T)}. No. of ELMs from anaylsis: {len(ELM_start_J2)}.\")\n",
    "    print(\"| Rough Time of ELM from Plasma Energy (ms) | Rough Time of ELM from H_Alpha (ms) | Difference (ms) |\") \n",
    "    print(\"-----------------------------------------------------------------------------------------------------\")\n",
    "    \n",
    "    for i in range(len(ELM_start_J2)): \n",
    "        First_Print1 = \"| {:^41.2f} | {:^35.2f} | {:^15.2f} |\".format(ELM_start_J2[i], ELM_start_T2[i], (ELM_start_J2[i] - ELM_start_T2[i])) \n",
    "        print(First_Print1)"
   ]
  },
  {
   "cell_type": "code",
   "execution_count": 7,
   "id": "a8131fb7",
   "metadata": {
    "ExecuteTime": {
     "end_time": "2023-08-28T17:10:06.779001876Z",
     "start_time": "2023-08-28T17:10:06.774297140Z"
    }
   },
   "outputs": [],
   "source": [
    "# fig, (ax1, ax2) = plt.subplots(2, sharex=True)\n",
    "# fig.suptitle('Aligning x-axis using sharex')\n",
    "# ax1.plot(signal.time_axis.data, -signal.data)\n",
    "# ax2.plot(W_xarray.time.data, W_xarray.data)\n",
    "# ax1.vlines(t_ELM_start.data, 0, 6, color='red')\n",
    "# ax2.vlines(t_ELM_start.data, 0, 7000, color='red')\n",
    "# plt.plot(FPeaks_T,FPeaks,'xg')\n",
    "\n",
    "# ax1.grid()\n",
    "# ax2.grid()"
   ]
  },
  {
   "cell_type": "code",
   "execution_count": 8,
   "id": "88e254c8",
   "metadata": {
    "ExecuteTime": {
     "end_time": "2023-08-28T17:10:19.344973851Z",
     "start_time": "2023-08-28T17:10:07.462167116Z"
    },
    "scrolled": false
   },
   "outputs": [
    {
     "ename": "ValueError",
     "evalue": "invalid literal for int() with base 10: ''",
     "output_type": "error",
     "traceback": [
      "\u001b[0;31m---------------------------------------------------------------------------\u001b[0m",
      "\u001b[0;31mValueError\u001b[0m                                Traceback (most recent call last)",
      "Cell \u001b[0;32mIn[8], line 3\u001b[0m\n\u001b[1;32m      1\u001b[0m running \u001b[38;5;241m=\u001b[39m \u001b[38;5;28;01mTrue\u001b[39;00m\n\u001b[0;32m----> 3\u001b[0m shot_number \u001b[38;5;241m=\u001b[39m \u001b[38;5;28;43mint\u001b[39;49m\u001b[43m(\u001b[49m\u001b[38;5;28;43minput\u001b[39;49m\u001b[43m(\u001b[49m\u001b[38;5;124;43m\"\u001b[39;49m\u001b[38;5;124;43mEnter Shot Number: \u001b[39;49m\u001b[38;5;124;43m\"\u001b[39;49m\u001b[43m)\u001b[49m\u001b[43m)\u001b[49m \n\u001b[1;32m      5\u001b[0m \u001b[38;5;28mprint\u001b[39m(\u001b[38;5;124m\"\u001b[39m\u001b[38;5;124m| Start Time (ms) | End Time (ms) | Duration (ms) | Energy max (J) | Energy min (J) | Energy difference (J) |\u001b[39m\u001b[38;5;124m\"\u001b[39m) \n\u001b[1;32m      6\u001b[0m \u001b[38;5;28mprint\u001b[39m(\u001b[38;5;124m\"\u001b[39m\u001b[38;5;124m-------------------------------------------------------------------------------------------------------------\u001b[39m\u001b[38;5;124m\"\u001b[39m)\n",
      "\u001b[0;31mValueError\u001b[0m: invalid literal for int() with base 10: ''"
     ]
    }
   ],
   "source": [
    "running = True\n",
    "\n",
    "shot_number = int(input(\"Enter Shot Number: \")) \n",
    "\n",
    "print(\"| Start Time (ms) | End Time (ms) | Duration (ms) | Energy max (J) | Energy min (J) | Energy difference (J) |\") \n",
    "print(\"-------------------------------------------------------------------------------------------------------------\")\n",
    "\n",
    "List = Get_Lists(shot_number)\n",
    "    \n",
    "GPeaks = List[0]\n",
    "GPeaks_T = List[1]\n",
    "GTroughs = List[2]\n",
    "GTroughs_T = List[3]\n",
    "\n",
    "for i in range(len(GPeaks_T)): \n",
    "    First_Print = \"| {:^15.2f} | {:^13.2f} | {:^13.2f} | {:^14.2f} | {:^14.2f} | {:^21.2f} |\".format(GPeaks_T[i], GTroughs_T[i], (GTroughs_T[i] - GPeaks_T[i]), GPeaks[i], GTroughs[i], (GPeaks[i]-GTroughs[i])) \n",
    "    print(First_Print)\n",
    "\n",
    "while running: \n",
    "\n",
    "    print(\"Would you like to compare against another ELM Detection Algorithim, look at the ELMs on a graph or exit?\")\n",
    "    Var = input(\"Type ESC - to exit, GRAPH - to see the graph or COMPARE - to comapre ELMs found in here, and ELM's found using another signal: \")\n",
    "    \n",
    "    Var = Var.upper()\n",
    "\n",
    "    if Var == \"GRAPH\": \n",
    "        Display_Graph(shot_number)\n",
    "      \n",
    "    if Var == \"COMPARE\":\n",
    "        Compare_Graphs(shot_number)\n",
    "\n",
    "    if Var == \"ESC\":\n",
    "        running = False\n",
    "        break"
   ]
  },
  {
   "cell_type": "code",
   "execution_count": null,
   "id": "065ee015",
   "metadata": {},
   "outputs": [],
   "source": []
  }
 ],
 "metadata": {
  "kernelspec": {
   "display_name": "Python 3",
   "language": "python",
   "name": "python3"
  },
  "language_info": {
   "codemirror_mode": {
    "name": "ipython",
    "version": 3
   },
   "file_extension": ".py",
   "mimetype": "text/x-python",
   "name": "python",
   "nbconvert_exporter": "python",
   "pygments_lexer": "ipython3",
   "version": "3.5.5"
  }
 },
 "nbformat": 4,
 "nbformat_minor": 5
}
